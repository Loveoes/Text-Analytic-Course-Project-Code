{
 "cells": [
  {
   "cell_type": "code",
   "execution_count": 4,
   "metadata": {},
   "outputs": [],
   "source": [
    "import pandas as pd"
   ]
  },
  {
   "cell_type": "code",
   "execution_count": 5,
   "metadata": {},
   "outputs": [],
   "source": [
    "rawData1 = pd.read_csv('extractData.csv')"
   ]
  },
  {
   "cell_type": "code",
   "execution_count": 6,
   "metadata": {},
   "outputs": [],
   "source": [
    "#extract all genres data in order to filter\n",
    "metal = rawData1.where(rawData1['genre'] == 'Metal').dropna()\n",
    "hip = rawData1.where(rawData1['genre']=='Hip-Hop').dropna()\n",
    "country = rawData1.where(rawData1['genre']=='Country').dropna()\n",
    "electronic = rawData1.where(rawData1['genre']=='Electronic').dropna()\n",
    "folk = rawData1.where(rawData1['genre']=='Folk').dropna()\n",
    "indie = rawData1.where(rawData1['genre']=='Indie').dropna()\n",
    "jazz = rawData1.where(rawData1['genre']=='Jazz').dropna()\n",
    "other = rawData1.where(rawData1['genre']=='Other').dropna()\n",
    "pop = rawData1.where(rawData1['genre']=='Pop').dropna()\n",
    "rb = rawData1.where(rawData1['genre']=='R&B').dropna()\n",
    "rock = rawData1.where(rawData1['genre']=='Rock').dropna()"
   ]
  },
  {
   "cell_type": "markdown",
   "metadata": {},
   "source": [
    "# Sentiment Analysis in Vader "
   ]
  },
  {
   "cell_type": "code",
   "execution_count": 14,
   "metadata": {},
   "outputs": [],
   "source": [
    "from nltk.sentiment.vader import SentimentIntensityAnalyzer\n",
    "sid = SentimentIntensityAnalyzer()\n",
    "def make_sentiment_analysis(genre_for_analysis):\n",
    "    pos=[]\n",
    "    neg=[]\n",
    "    neu=[]\n",
    "    for sentence in genre_for_analysis['lyrics']:\n",
    "        ss = sid.polarity_scores(sentence)\n",
    "        for k in ss:\n",
    "            if k == 'pos':\n",
    "                pos.append(ss[k])\n",
    "            elif k == 'neg':\n",
    "                neg.append(ss[k])\n",
    "            elif k == 'neu':\n",
    "                neu.append(ss[k])\n",
    "    for i in range(0,len(pos)):\n",
    "        ID.append(i)\n",
    "        sentimentRate = pd.DataFrame({'Genres':genre_for_analysis['genre'],'Positive_scores': pos,'Negative_scores':neg,'Neural_scores':neu})\n",
    "    return sentimentRate"
   ]
  },
  {
   "cell_type": "code",
   "execution_count": 46,
   "metadata": {},
   "outputs": [
    {
     "data": {
      "text/plain": [
       "Positive_scores    0.095021\n",
       "Negative_scores    0.148097\n",
       "Neural_scores      0.755390\n",
       "dtype: float64"
      ]
     },
     "execution_count": 46,
     "metadata": {},
     "output_type": "execute_result"
    }
   ],
   "source": [
    "#sentiment rate of metal music\n",
    "metal_sentiment = make_sentiment_analysis(metal)\n",
    "metal_mean_positive_rate = metal_sentiment.mean()['Positive_scores']\n",
    "metal_mean_negative_rate = metal_sentiment.mean()['Negative_scores']\n",
    "metal_sentiment.mean()"
   ]
  },
  {
   "cell_type": "code",
   "execution_count": 45,
   "metadata": {},
   "outputs": [
    {
     "data": {
      "text/plain": [
       "Positive_scores    0.111261\n",
       "Negative_scores    0.112381\n",
       "Neural_scores      0.776349\n",
       "dtype: float64"
      ]
     },
     "execution_count": 45,
     "metadata": {},
     "output_type": "execute_result"
    }
   ],
   "source": [
    "#sentiment rate of hip-hop music\n",
    "hip_sentiment = make_sentiment_analysis(hip)\n",
    "hip_mean_positive_rate = hip_sentiment.mean()['Positive_scores']\n",
    "hip_mean_negative_rate = hip_sentiment.mean()['Negative_scores']\n",
    "hip_sentiment.mean()"
   ]
  },
  {
   "cell_type": "code",
   "execution_count": 44,
   "metadata": {},
   "outputs": [
    {
     "data": {
      "text/plain": [
       "Positive_scores    0.150280\n",
       "Negative_scores    0.084714\n",
       "Neural_scores      0.765019\n",
       "dtype: float64"
      ]
     },
     "execution_count": 44,
     "metadata": {},
     "output_type": "execute_result"
    }
   ],
   "source": [
    "#sentiment rate of country music\n",
    "country_sentiment = make_sentiment_analysis(country)\n",
    "country_mean_positive_rate = country_sentiment.mean()['Positive_scores']\n",
    "country_mean_negative_rate = country_sentiment.mean()['Negative_scores']\n",
    "country_sentiment.mean()"
   ]
  },
  {
   "cell_type": "code",
   "execution_count": 43,
   "metadata": {},
   "outputs": [
    {
     "data": {
      "text/plain": [
       "Positive_scores    0.121154\n",
       "Negative_scores    0.089651\n",
       "Neural_scores      0.789184\n",
       "dtype: float64"
      ]
     },
     "execution_count": 43,
     "metadata": {},
     "output_type": "execute_result"
    }
   ],
   "source": [
    "#sentiment rate of electronic music\n",
    "electronic_sentiment = make_sentiment_analysis(electronic)\n",
    "electronic_mean_positive_rate = electronic_sentiment.mean()['Positive_scores']\n",
    "electronic_mean_negative_rate = electronic_sentiment.mean()['Negative_scores']\n",
    "electronic_sentiment.mean()"
   ]
  },
  {
   "cell_type": "code",
   "execution_count": 42,
   "metadata": {},
   "outputs": [
    {
     "data": {
      "text/plain": [
       "Positive_scores    0.108179\n",
       "Negative_scores    0.066839\n",
       "Neural_scores      0.823976\n",
       "dtype: float64"
      ]
     },
     "execution_count": 42,
     "metadata": {},
     "output_type": "execute_result"
    }
   ],
   "source": [
    "#sentiment rate of folk music\n",
    "folk_sentiment = make_sentiment_analysis(folk)\n",
    "folk_mean_positive_rate = folk_sentiment.mean()['Positive_scores']\n",
    "folk_mean_negative_rate = folk_sentiment.mean()['Negative_scores']\n",
    "folk_sentiment.mean()"
   ]
  },
  {
   "cell_type": "code",
   "execution_count": 41,
   "metadata": {},
   "outputs": [
    {
     "data": {
      "text/plain": [
       "Positive_scores    0.117054\n",
       "Negative_scores    0.083096\n",
       "Neural_scores      0.799864\n",
       "dtype: float64"
      ]
     },
     "execution_count": 41,
     "metadata": {},
     "output_type": "execute_result"
    }
   ],
   "source": [
    "#sentiment rate of indie music\n",
    "indie_sentiment = make_sentiment_analysis(indie)\n",
    "indie_mean_positive_rate = indie_sentiment.mean()['Positive_scores']\n",
    "indie_mean_negative_rate = indie_sentiment.mean()['Negative_scores']\n",
    "indie_sentiment.mean()"
   ]
  },
  {
   "cell_type": "code",
   "execution_count": 40,
   "metadata": {},
   "outputs": [
    {
     "data": {
      "text/plain": [
       "Positive_scores    0.172377\n",
       "Negative_scores    0.069751\n",
       "Neural_scores      0.757880\n",
       "dtype: float64"
      ]
     },
     "execution_count": 40,
     "metadata": {},
     "output_type": "execute_result"
    }
   ],
   "source": [
    "#sentiment rate of jazz music\n",
    "jazz_sentiment = make_sentiment_analysis(jazz)\n",
    "jazz_mean_positive_rate = jazz_sentiment.mean()['Positive_scores']\n",
    "jazz_mean_negative_rate = jazz_sentiment.mean()['Negative_scores']\n",
    "jazz_sentiment.mean()"
   ]
  },
  {
   "cell_type": "code",
   "execution_count": 39,
   "metadata": {},
   "outputs": [
    {
     "data": {
      "text/plain": [
       "Positive_scores    0.122775\n",
       "Negative_scores    0.081479\n",
       "Neural_scores      0.795754\n",
       "dtype: float64"
      ]
     },
     "execution_count": 39,
     "metadata": {},
     "output_type": "execute_result"
    }
   ],
   "source": [
    "#sentiment rate of other music\n",
    "other_sentiment = make_sentiment_analysis(other)\n",
    "other_mean_positive_rate = other_sentiment.mean()['Positive_scores']\n",
    "other_mean_negative_rate = other_sentiment.mean()['Negative_scores']\n",
    "other_sentiment.mean()"
   ]
  },
  {
   "cell_type": "code",
   "execution_count": 37,
   "metadata": {},
   "outputs": [
    {
     "data": {
      "text/plain": [
       "Positive_scores    0.146502\n",
       "Negative_scores    0.077277\n",
       "Neural_scores      0.776229\n",
       "dtype: float64"
      ]
     },
     "execution_count": 37,
     "metadata": {},
     "output_type": "execute_result"
    }
   ],
   "source": [
    "#sentiment rate of pop music\n",
    "pop_sentiment = make_sentiment_analysis(pop)\n",
    "pop_mean_positive_rate = pop_sentiment.mean()['Positive_scores']\n",
    "pop_mean_negative_rate = pop_sentiment.mean()['Negative_scores']\n",
    "pop_sentiment.mean()"
   ]
  },
  {
   "cell_type": "code",
   "execution_count": 36,
   "metadata": {},
   "outputs": [
    {
     "data": {
      "text/plain": [
       "Positive_scores    0.158131\n",
       "Negative_scores    0.095294\n",
       "Neural_scores      0.746597\n",
       "dtype: float64"
      ]
     },
     "execution_count": 36,
     "metadata": {},
     "output_type": "execute_result"
    }
   ],
   "source": [
    "#sentiment rate of rb music\n",
    "rb_sentiment = make_sentiment_analysis(rb)\n",
    "rb_mean_positive_rate = rb_sentiment.mean()['Positive_scores']\n",
    "rb_mean_negative_rate = rb_sentiment.mean()['Negative_scores']\n",
    "rb_sentiment.mean()"
   ]
  },
  {
   "cell_type": "code",
   "execution_count": 35,
   "metadata": {},
   "outputs": [
    {
     "data": {
      "text/plain": [
       "Positive_scores    0.109636\n",
       "Negative_scores    0.102679\n",
       "Neural_scores      0.787683\n",
       "dtype: float64"
      ]
     },
     "execution_count": 35,
     "metadata": {},
     "output_type": "execute_result"
    }
   ],
   "source": [
    "#sentiment rate of rock music\n",
    "rock_sentiment = make_sentiment_analysis(rock)\n",
    "rock_mean_positive_rate = rock_sentiment.mean()['Positive_scores']\n",
    "rock_mean_negative_rate = rock_sentiment.mean()['Negative_scores']\n",
    "rock_sentiment.mean()"
   ]
  },
  {
   "cell_type": "markdown",
   "metadata": {},
   "source": [
    "# Plot all genres positive sentiment rate"
   ]
  },
  {
   "cell_type": "code",
   "execution_count": 48,
   "metadata": {},
   "outputs": [],
   "source": [
    "import matplotlib.pyplot as plt\n",
    "allGenres = ['Metal','Hip-Hop','Country','Electronic','Folk','Indie','Jazz','Other','Pop','R&B','Rock']\n",
    "all_Positive_Rate = [metal_mean_positive_rate,hip_mean_positive_rate,country_mean_positive_rate,\n",
    "                    electronic_mean_positive_rate,folk_mean_positive_rate,indie_mean_positive_rate,\n",
    "                    jazz_mean_positive_rate,other_mean_positive_rate,pop_mean_positive_rate,\n",
    "                    rb_mean_positive_rate,rock_mean_positive_rate] \n",
    "all_Negative_Rate = [metal_mean_negative_rate,hip_mean_negative_rate,country_mean_negative_rate,\n",
    "                    electronic_mean_negative_rate,folk_mean_negative_rate,indie_mean_negative_rate,\n",
    "                    jazz_mean_negative_rate,other_mean_negative_rate,pop_mean_negative_rate,\n",
    "                    rb_mean_negative_rate,rock_mean_negative_rate]"
   ]
  },
  {
   "cell_type": "code",
   "execution_count": 71,
   "metadata": {},
   "outputs": [
    {
     "data": {
      "text/plain": [
       "<function matplotlib.pyplot.show(*args, **kw)>"
      ]
     },
     "execution_count": 71,
     "metadata": {},
     "output_type": "execute_result"
    },
    {
     "data": {
      "image/png": "[encoded data removed]",
      "text/plain": [
       "<Figure size 432x288 with 1 Axes>"
      ]
     },
     "metadata": {
      "needs_background": "light"
     },
     "output_type": "display_data"
    }
   ],
   "source": [
    "df = pd.DataFrame({'genres': allGenres,'Positive_Rate':all_Positive_Rate,'Negative_Rate': all_Negative_Rate})\n",
    "df.plot.barh(x = 'genres')\n",
    "plt.title('All genres sentiment rate comparison')\n",
    "plt.ylabel('Genres')\n",
    "plt.xlabel('Rate')\n",
    "plt.legend(loc='best')\n",
    "plt.show"
   ]
  }
 ],
 "metadata": {
  "kernelspec": {
   "display_name": "Python 3",
   "language": "python",
   "name": "python3"
  },
  "language_info": {
   "codemirror_mode": {
    "name": "ipython",
    "version": 3
   },
   "file_extension": ".py",
   "mimetype": "text/x-python",
   "name": "python",
   "nbconvert_exporter": "python",
   "pygments_lexer": "ipython3",
   "version": "3.7.1"
  }
 },
 "nbformat": 4,
 "nbformat_minor": 2
}
